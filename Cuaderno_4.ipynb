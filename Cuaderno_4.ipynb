{
  "nbformat": 4,
  "nbformat_minor": 0,
  "metadata": {
    "colab": {
      "name": "280322.ipynb",
      "provenance": [],
      "collapsed_sections": []
    },
    "kernelspec": {
      "name": "python3",
      "display_name": "Python 3"
    },
    "language_info": {
      "name": "python"
    }
  },
  "cells": [
    {
      "cell_type": "markdown",
      "source": [
        "`Cuaderno 4`"
      ],
      "metadata": {
        "id": "2tqTf-YSo5Nb"
      }
    },
    {
      "cell_type": "markdown",
      "source": [
        "---"
      ],
      "metadata": {
        "id": "a7pKioEioxnh"
      }
    },
    {
      "cell_type": "markdown",
      "source": [
        "### Asignación\n",
        "\n",
        "1. Convertir en coordenadas polares los datos de `de` y `dl`\n",
        "2. Graficar un cardioide en coordenadas polares en Python"
      ],
      "metadata": {
        "id": "G02N6j9Cowtb"
      }
    },
    {
      "cell_type": "markdown",
      "source": [
        "---"
      ],
      "metadata": {
        "id": "vv7vYY_Aovww"
      }
    },
    {
      "cell_type": "markdown",
      "source": [
        "#### Cambio de coordenadas en rectangulares y polares"
      ],
      "metadata": {
        "id": "E-RAmpBBqCs-"
      }
    },
    {
      "cell_type": "code",
      "source": [
        "import cmath"
      ],
      "metadata": {
        "id": "JNObppVTqcHh"
      },
      "execution_count": 3,
      "outputs": []
    },
    {
      "cell_type": "code",
      "source": [
        "Z1_rect= 3+5j\n",
        "type(Z1_rect)"
      ],
      "metadata": {
        "colab": {
          "base_uri": "https://localhost:8080/"
        },
        "id": "hYFUKVlnqJU-",
        "outputId": "13aeafa5-88cd-4139-d774-11fffdb7ddfd"
      },
      "execution_count": 2,
      "outputs": [
        {
          "output_type": "execute_result",
          "data": {
            "text/plain": [
              "complex"
            ]
          },
          "metadata": {},
          "execution_count": 2
        }
      ]
    },
    {
      "cell_type": "code",
      "source": [
        "Z1_polar=cmath.polar(Z1_rect)\n",
        "print(Z1_polar)"
      ],
      "metadata": {
        "colab": {
          "base_uri": "https://localhost:8080/"
        },
        "id": "ZP5wQD_WqTak",
        "outputId": "6831d98e-996f-4d9a-8fe5-840ff5b5ec6c"
      },
      "execution_count": 4,
      "outputs": [
        {
          "output_type": "stream",
          "name": "stdout",
          "text": [
            "(5.830951894845301, 1.0303768265243125)\n"
          ]
        }
      ]
    },
    {
      "cell_type": "code",
      "source": [
        "Z1_mag, Z1_ang=cmath.polar(Z1_rect)\n",
        "Z1_ang"
      ],
      "metadata": {
        "colab": {
          "base_uri": "https://localhost:8080/"
        },
        "id": "uKlLNt_brFhB",
        "outputId": "287ef8a6-86c9-4a4b-bddf-df27240b0e05"
      },
      "execution_count": 7,
      "outputs": [
        {
          "output_type": "execute_result",
          "data": {
            "text/plain": [
              "1.0303768265243125"
            ]
          },
          "metadata": {},
          "execution_count": 7
        }
      ]
    },
    {
      "cell_type": "code",
      "source": [
        "# Otra forma\n",
        "Z2_polar=abs(Z1_rect),cmath.phase(Z1_rect)\n",
        "print(Z2_polar)"
      ],
      "metadata": {
        "colab": {
          "base_uri": "https://localhost:8080/"
        },
        "id": "lNTm5e2upJfX",
        "outputId": "6a5fe8ff-e8d2-4299-a713-02ee0dce9db0"
      },
      "execution_count": 5,
      "outputs": [
        {
          "output_type": "stream",
          "name": "stdout",
          "text": [
            "(5.830951894845301, 1.0303768265243125)\n"
          ]
        }
      ]
    },
    {
      "cell_type": "markdown",
      "source": [
        "---\n",
        "#2. Dibujar un carioide con coordenadas polares en python\n",
        "---\n"
      ],
      "metadata": {
        "id": "vlXUZtlhrxxN"
      }
    },
    {
      "cell_type": "markdown",
      "source": [
        "Forma del carioide\n",
        "\n",
        "$$r= a\\pm b\\times Cos \\theta$$\n",
        "$$r= a\\pm b\\times Sen \\theta$$\n"
      ],
      "metadata": {
        "id": "OeSGaVA4u3cj"
      }
    },
    {
      "cell_type": "markdown",
      "source": [
        "$$6+6Cos\\theta$$ Ejemplo:\n",
        "$$r= \\sqrt{X^2+Y^2}$$\n",
        "$$x=Cos\\theta$$\n",
        "Entonces:\n",
        "$$\\frac{x}{r}= Cos\\theta=\\frac{x}{\\sqrt{X^2+Y^2}}$$\n",
        "\n",
        "$$\\sqrt{X^2+Y^2}=6+6\\times \\frac{x}{\\sqrt{X^2+Y^2}}$$\n",
        "\n"
      ],
      "metadata": {
        "id": "923E5n2jvXVh"
      }
    },
    {
      "cell_type": "markdown",
      "source": [
        "Como se graficaría en coordenadas polares\n",
        "Damos valores de $$\\theta$$ y encontramos valores de r"
      ],
      "metadata": {
        "id": "mbag1vylwKUA"
      }
    },
    {
      "cell_type": "code",
      "source": [
        "from math import cos\n",
        "#from math import sen\n",
        "from math import radians\n",
        "# Voy a crear una tabla en x y y para los diferentes valores\n",
        "list_grados=[0,15,30,45,60,75,90,105,120,135,150,165,180,195,210,225,240,255,270,285,300,315,330,345,360]\n",
        "list_grados2=[]\n",
        "\n",
        "for i in list_grados:\n",
        "  list_grados2.append(radians(i))\n",
        "\n",
        "def carioide (grados):\n",
        "  i=2+(2*cos(grados))\n",
        "  return i\n",
        "Lista_r=[]\n",
        "for i in list_grados2:\n",
        "  Lista_r.append(carioide(i))\n",
        "#Lista_r"
      ],
      "metadata": {
        "id": "Ak_gCsDDwSxR"
      },
      "execution_count": 52,
      "outputs": []
    },
    {
      "cell_type": "code",
      "source": [
        "#list_grados2"
      ],
      "metadata": {
        "id": "S_ZWBrB27fAP"
      },
      "execution_count": 53,
      "outputs": []
    },
    {
      "cell_type": "code",
      "source": [
        "from matplotlib.mathtext import List\n",
        "plt.polar(list_grados2,Lista_r,'r')"
      ],
      "metadata": {
        "colab": {
          "base_uri": "https://localhost:8080/",
          "height": 304
        },
        "id": "WycJTZqr6Guv",
        "outputId": "5ad7b832-a9aa-431b-b452-b73f853415df"
      },
      "execution_count": 55,
      "outputs": [
        {
          "output_type": "execute_result",
          "data": {
            "text/plain": [
              "[<matplotlib.lines.Line2D at 0x7fd1ecfba310>]"
            ]
          },
          "metadata": {},
          "execution_count": 55
        },
        {
          "output_type": "display_data",
          "data": {
            "text/plain": [
              "<Figure size 432x288 with 1 Axes>"
            ],
            "image/png": "[encoded data removed]"
          },
          "metadata": {
            "needs_background": "light"
          }
        }
      ]
    },
    {
      "cell_type": "markdown",
      "source": [
        "Segunda forma"
      ],
      "metadata": {
        "id": "vUdGMYhm7x5y"
      }
    },
    {
      "cell_type": "code",
      "source": [
        "# Python programa para imprimir un cardioide en coordenadas polares\n",
        "import numpy as np\n",
        "from matplotlib import pyplot as plt\n",
        "\n",
        "theta = np.linspace(0, 2*np.pi, 1000)\n",
        "\n",
        "r = 2 - 10 * np.sin(theta)\n",
        "\n",
        "plt.polar(theta, r, 'r')\n",
        "\n",
        "plt.show()"
      ],
      "metadata": {
        "colab": {
          "base_uri": "https://localhost:8080/",
          "height": 286
        },
        "id": "FlQfxTTC4_XI",
        "outputId": "84d77644-67bc-4eca-f597-8d9e5e26844c"
      },
      "execution_count": 56,
      "outputs": [
        {
          "output_type": "display_data",
          "data": {
            "text/plain": [
              "<Figure size 432x288 with 1 Axes>"
            ],
            "image/png": "[encoded data removed]"
          },
          "metadata": {
            "needs_background": "light"
          }
        }
      ]
    },
    {
      "cell_type": "markdown",
      "source": [
        "### Estadisticas descriptivas"
      ],
      "metadata": {
        "id": "9Cd-jMaO7LPH"
      }
    },
    {
      "cell_type": "markdown",
      "source": [
        "Escalas de medida\n",
        "\n",
        "* Nominal\n",
        "* Ordinal\n",
        "* Intervalo (cero relativo)\n",
        "* Razon (cero absoluto)"
      ],
      "metadata": {
        "id": "YEMqa5g770eo"
      }
    },
    {
      "cell_type": "code",
      "execution_count": null,
      "metadata": {
        "id": "ifrH-A5-7GKq"
      },
      "outputs": [],
      "source": [
        "import pandas as pd\n",
        "import numpy as np"
      ]
    },
    {
      "cell_type": "markdown",
      "source": [
        "$$a_n = a_1 + r(n-1)$$"
      ],
      "metadata": {
        "id": "TlGr5IsVB4Y6"
      }
    },
    {
      "cell_type": "code",
      "source": [
        "def prog(r, n, a1):\n",
        "  an = a1 + r*(n-1)\n",
        "  seq = np.arange(start=a1, stop=an, step=r)\n",
        "  return seq\n",
        "\n",
        "prog(r=7, n=20, a1=15)"
      ],
      "metadata": {
        "colab": {
          "base_uri": "https://localhost:8080/"
        },
        "id": "vj5GubjmBumq",
        "outputId": "1ff23464-e457-46fd-852e-3936f7251274"
      },
      "execution_count": null,
      "outputs": [
        {
          "output_type": "execute_result",
          "data": {
            "text/plain": [
              "array([ 15,  22,  29,  36,  43,  50,  57,  64,  71,  78,  85,  92,  99,\n",
              "       106, 113, 120, 127, 134, 141])"
            ]
          },
          "metadata": {},
          "execution_count": 9
        }
      ]
    },
    {
      "cell_type": "code",
      "source": [
        "np.random.seed(123)\n",
        "\n",
        "df1 = pd.DataFrame({\n",
        "    'de': np.sort(np.random.normal(loc = 4, scale = 1, size=96)),\n",
        "    'dl': np.sort(np.random.normal(loc=4.5, scale=1.2, size=96)),\n",
        "    'ddd': np.repeat(prog(r=7, n=25, a1=15), 4)\n",
        "})\n",
        "\n",
        "df1['localidad'] = np.repeat(['l1','l2']*24, 2)\n",
        "df1.head()"
      ],
      "metadata": {
        "colab": {
          "base_uri": "https://localhost:8080/",
          "height": 206
        },
        "id": "ujAU5md9Aa7T",
        "outputId": "fceaee2a-4f31-41eb-8872-44096e57e1b6"
      },
      "execution_count": null,
      "outputs": [
        {
          "output_type": "execute_result",
          "data": {
            "text/plain": [
              "         de        dl  ddd localidad\n",
              "0  1.201411  1.431534   15        l1\n",
              "1  1.573321  2.069945   15        l1\n",
              "2  1.876900  2.126534   15        l2\n",
              "3  2.228467  2.247758   15        l2\n",
              "4  2.272331  2.265629   22        l1"
            ],
            "text/html": [
              "\n",
              "  <div id=\"df-16607a8d-0bad-4859-ba43-f36503a4c7ac\">\n",
              "    <div class=\"colab-df-container\">\n",
              "      <div>\n",
              "<style scoped>\n",
              "    .dataframe tbody tr th:only-of-type {\n",
              "        vertical-align: middle;\n",
              "    }\n",
              "\n",
              "    .dataframe tbody tr th {\n",
              "        vertical-align: top;\n",
              "    }\n",
              "\n",
              "    .dataframe thead th {\n",
              "        text-align: right;\n",
              "    }\n",
              "</style>\n",
              "<table border=\"1\" class=\"dataframe\">\n",
              "  <thead>\n",
              "    <tr style=\"text-align: right;\">\n",
              "      <th></th>\n",
              "      <th>de</th>\n",
              "      <th>dl</th>\n",
              "      <th>ddd</th>\n",
              "      <th>localidad</th>\n",
              "    </tr>\n",
              "  </thead>\n",
              "  <tbody>\n",
              "    <tr>\n",
              "      <th>0</th>\n",
              "      <td>1.201411</td>\n",
              "      <td>1.431534</td>\n",
              "      <td>15</td>\n",
              "      <td>l1</td>\n",
              "    </tr>\n",
              "    <tr>\n",
              "      <th>1</th>\n",
              "      <td>1.573321</td>\n",
              "      <td>2.069945</td>\n",
              "      <td>15</td>\n",
              "      <td>l1</td>\n",
              "    </tr>\n",
              "    <tr>\n",
              "      <th>2</th>\n",
              "      <td>1.876900</td>\n",
              "      <td>2.126534</td>\n",
              "      <td>15</td>\n",
              "      <td>l2</td>\n",
              "    </tr>\n",
              "    <tr>\n",
              "      <th>3</th>\n",
              "      <td>2.228467</td>\n",
              "      <td>2.247758</td>\n",
              "      <td>15</td>\n",
              "      <td>l2</td>\n",
              "    </tr>\n",
              "    <tr>\n",
              "      <th>4</th>\n",
              "      <td>2.272331</td>\n",
              "      <td>2.265629</td>\n",
              "      <td>22</td>\n",
              "      <td>l1</td>\n",
              "    </tr>\n",
              "  </tbody>\n",
              "</table>\n",
              "</div>\n",
              "      <button class=\"colab-df-convert\" onclick=\"convertToInteractive('df-16607a8d-0bad-4859-ba43-f36503a4c7ac')\"\n",
              "              title=\"Convert this dataframe to an interactive table.\"\n",
              "              style=\"display:none;\">\n",
              "        \n",
              "  <svg xmlns=\"http://www.w3.org/2000/svg\" height=\"24px\"viewBox=\"0 0 24 24\"\n",
              "       width=\"24px\">\n",
              "    <path d=\"M0 0h24v24H0V0z\" fill=\"none\"/>\n",
              "    <path d=\"M18.56 5.44l.94 2.06.94-2.06 2.06-.94-2.06-.94-.94-2.06-.94 2.06-2.06.94zm-11 1L8.5 8.5l.94-2.06 2.06-.94-2.06-.94L8.5 2.5l-.94 2.06-2.06.94zm10 10l.94 2.06.94-2.06 2.06-.94-2.06-.94-.94-2.06-.94 2.06-2.06.94z\"/><path d=\"M17.41 7.96l-1.37-1.37c-.4-.4-.92-.59-1.43-.59-.52 0-1.04.2-1.43.59L10.3 9.45l-7.72 7.72c-.78.78-.78 2.05 0 2.83L4 21.41c.39.39.9.59 1.41.59.51 0 1.02-.2 1.41-.59l7.78-7.78 2.81-2.81c.8-.78.8-2.07 0-2.86zM5.41 20L4 18.59l7.72-7.72 1.47 1.35L5.41 20z\"/>\n",
              "  </svg>\n",
              "      </button>\n",
              "      \n",
              "  <style>\n",
              "    .colab-df-container {\n",
              "      display:flex;\n",
              "      flex-wrap:wrap;\n",
              "      gap: 12px;\n",
              "    }\n",
              "\n",
              "    .colab-df-convert {\n",
              "      background-color: #E8F0FE;\n",
              "      border: none;\n",
              "      border-radius: 50%;\n",
              "      cursor: pointer;\n",
              "      display: none;\n",
              "      fill: #1967D2;\n",
              "      height: 32px;\n",
              "      padding: 0 0 0 0;\n",
              "      width: 32px;\n",
              "    }\n",
              "\n",
              "    .colab-df-convert:hover {\n",
              "      background-color: #E2EBFA;\n",
              "      box-shadow: 0px 1px 2px rgba(60, 64, 67, 0.3), 0px 1px 3px 1px rgba(60, 64, 67, 0.15);\n",
              "      fill: #174EA6;\n",
              "    }\n",
              "\n",
              "    [theme=dark] .colab-df-convert {\n",
              "      background-color: #3B4455;\n",
              "      fill: #D2E3FC;\n",
              "    }\n",
              "\n",
              "    [theme=dark] .colab-df-convert:hover {\n",
              "      background-color: #434B5C;\n",
              "      box-shadow: 0px 1px 3px 1px rgba(0, 0, 0, 0.15);\n",
              "      filter: drop-shadow(0px 1px 2px rgba(0, 0, 0, 0.3));\n",
              "      fill: #FFFFFF;\n",
              "    }\n",
              "  </style>\n",
              "\n",
              "      <script>\n",
              "        const buttonEl =\n",
              "          document.querySelector('#df-16607a8d-0bad-4859-ba43-f36503a4c7ac button.colab-df-convert');\n",
              "        buttonEl.style.display =\n",
              "          google.colab.kernel.accessAllowed ? 'block' : 'none';\n",
              "\n",
              "        async function convertToInteractive(key) {\n",
              "          const element = document.querySelector('#df-16607a8d-0bad-4859-ba43-f36503a4c7ac');\n",
              "          const dataTable =\n",
              "            await google.colab.kernel.invokeFunction('convertToInteractive',\n",
              "                                                     [key], {});\n",
              "          if (!dataTable) return;\n",
              "\n",
              "          const docLinkHtml = 'Like what you see? Visit the ' +\n",
              "            '<a target=\"_blank\" href=https://colab.research.google.com/notebooks/data_table.ipynb>data table notebook</a>'\n",
              "            + ' to learn more about interactive tables.';\n",
              "          element.innerHTML = '';\n",
              "          dataTable['output_type'] = 'display_data';\n",
              "          await google.colab.output.renderOutput(dataTable, element);\n",
              "          const docLink = document.createElement('div');\n",
              "          docLink.innerHTML = docLinkHtml;\n",
              "          element.appendChild(docLink);\n",
              "        }\n",
              "      </script>\n",
              "    </div>\n",
              "  </div>\n",
              "  "
            ]
          },
          "metadata": {},
          "execution_count": 37
        }
      ]
    },
    {
      "cell_type": "code",
      "source": [
        "df1.tail()"
      ],
      "metadata": {
        "colab": {
          "base_uri": "https://localhost:8080/",
          "height": 206
        },
        "id": "JBhdjU2JD9z9",
        "outputId": "2e4f2302-6051-4d08-b7d1-876cc1b6392b"
      },
      "execution_count": null,
      "outputs": [
        {
          "output_type": "execute_result",
          "data": {
            "text/plain": [
              "          de        dl  ddd localidad\n",
              "91  6.087113  6.353453  169        l2\n",
              "92  6.186786  6.430429  176        l1\n",
              "93  6.205930  6.667164  176        l1\n",
              "94  6.238143  6.851294  176        l2\n",
              "95  6.392365  7.617965  176        l2"
            ],
            "text/html": [
              "\n",
              "  <div id=\"df-635b8a65-197c-4bcb-b4dd-09734be11ce9\">\n",
              "    <div class=\"colab-df-container\">\n",
              "      <div>\n",
              "<style scoped>\n",
              "    .dataframe tbody tr th:only-of-type {\n",
              "        vertical-align: middle;\n",
              "    }\n",
              "\n",
              "    .dataframe tbody tr th {\n",
              "        vertical-align: top;\n",
              "    }\n",
              "\n",
              "    .dataframe thead th {\n",
              "        text-align: right;\n",
              "    }\n",
              "</style>\n",
              "<table border=\"1\" class=\"dataframe\">\n",
              "  <thead>\n",
              "    <tr style=\"text-align: right;\">\n",
              "      <th></th>\n",
              "      <th>de</th>\n",
              "      <th>dl</th>\n",
              "      <th>ddd</th>\n",
              "      <th>localidad</th>\n",
              "    </tr>\n",
              "  </thead>\n",
              "  <tbody>\n",
              "    <tr>\n",
              "      <th>91</th>\n",
              "      <td>6.087113</td>\n",
              "      <td>6.353453</td>\n",
              "      <td>169</td>\n",
              "      <td>l2</td>\n",
              "    </tr>\n",
              "    <tr>\n",
              "      <th>92</th>\n",
              "      <td>6.186786</td>\n",
              "      <td>6.430429</td>\n",
              "      <td>176</td>\n",
              "      <td>l1</td>\n",
              "    </tr>\n",
              "    <tr>\n",
              "      <th>93</th>\n",
              "      <td>6.205930</td>\n",
              "      <td>6.667164</td>\n",
              "      <td>176</td>\n",
              "      <td>l1</td>\n",
              "    </tr>\n",
              "    <tr>\n",
              "      <th>94</th>\n",
              "      <td>6.238143</td>\n",
              "      <td>6.851294</td>\n",
              "      <td>176</td>\n",
              "      <td>l2</td>\n",
              "    </tr>\n",
              "    <tr>\n",
              "      <th>95</th>\n",
              "      <td>6.392365</td>\n",
              "      <td>7.617965</td>\n",
              "      <td>176</td>\n",
              "      <td>l2</td>\n",
              "    </tr>\n",
              "  </tbody>\n",
              "</table>\n",
              "</div>\n",
              "      <button class=\"colab-df-convert\" onclick=\"convertToInteractive('df-635b8a65-197c-4bcb-b4dd-09734be11ce9')\"\n",
              "              title=\"Convert this dataframe to an interactive table.\"\n",
              "              style=\"display:none;\">\n",
              "        \n",
              "  <svg xmlns=\"http://www.w3.org/2000/svg\" height=\"24px\"viewBox=\"0 0 24 24\"\n",
              "       width=\"24px\">\n",
              "    <path d=\"M0 0h24v24H0V0z\" fill=\"none\"/>\n",
              "    <path d=\"M18.56 5.44l.94 2.06.94-2.06 2.06-.94-2.06-.94-.94-2.06-.94 2.06-2.06.94zm-11 1L8.5 8.5l.94-2.06 2.06-.94-2.06-.94L8.5 2.5l-.94 2.06-2.06.94zm10 10l.94 2.06.94-2.06 2.06-.94-2.06-.94-.94-2.06-.94 2.06-2.06.94z\"/><path d=\"M17.41 7.96l-1.37-1.37c-.4-.4-.92-.59-1.43-.59-.52 0-1.04.2-1.43.59L10.3 9.45l-7.72 7.72c-.78.78-.78 2.05 0 2.83L4 21.41c.39.39.9.59 1.41.59.51 0 1.02-.2 1.41-.59l7.78-7.78 2.81-2.81c.8-.78.8-2.07 0-2.86zM5.41 20L4 18.59l7.72-7.72 1.47 1.35L5.41 20z\"/>\n",
              "  </svg>\n",
              "      </button>\n",
              "      \n",
              "  <style>\n",
              "    .colab-df-container {\n",
              "      display:flex;\n",
              "      flex-wrap:wrap;\n",
              "      gap: 12px;\n",
              "    }\n",
              "\n",
              "    .colab-df-convert {\n",
              "      background-color: #E8F0FE;\n",
              "      border: none;\n",
              "      border-radius: 50%;\n",
              "      cursor: pointer;\n",
              "      display: none;\n",
              "      fill: #1967D2;\n",
              "      height: 32px;\n",
              "      padding: 0 0 0 0;\n",
              "      width: 32px;\n",
              "    }\n",
              "\n",
              "    .colab-df-convert:hover {\n",
              "      background-color: #E2EBFA;\n",
              "      box-shadow: 0px 1px 2px rgba(60, 64, 67, 0.3), 0px 1px 3px 1px rgba(60, 64, 67, 0.15);\n",
              "      fill: #174EA6;\n",
              "    }\n",
              "\n",
              "    [theme=dark] .colab-df-convert {\n",
              "      background-color: #3B4455;\n",
              "      fill: #D2E3FC;\n",
              "    }\n",
              "\n",
              "    [theme=dark] .colab-df-convert:hover {\n",
              "      background-color: #434B5C;\n",
              "      box-shadow: 0px 1px 3px 1px rgba(0, 0, 0, 0.15);\n",
              "      filter: drop-shadow(0px 1px 2px rgba(0, 0, 0, 0.3));\n",
              "      fill: #FFFFFF;\n",
              "    }\n",
              "  </style>\n",
              "\n",
              "      <script>\n",
              "        const buttonEl =\n",
              "          document.querySelector('#df-635b8a65-197c-4bcb-b4dd-09734be11ce9 button.colab-df-convert');\n",
              "        buttonEl.style.display =\n",
              "          google.colab.kernel.accessAllowed ? 'block' : 'none';\n",
              "\n",
              "        async function convertToInteractive(key) {\n",
              "          const element = document.querySelector('#df-635b8a65-197c-4bcb-b4dd-09734be11ce9');\n",
              "          const dataTable =\n",
              "            await google.colab.kernel.invokeFunction('convertToInteractive',\n",
              "                                                     [key], {});\n",
              "          if (!dataTable) return;\n",
              "\n",
              "          const docLinkHtml = 'Like what you see? Visit the ' +\n",
              "            '<a target=\"_blank\" href=https://colab.research.google.com/notebooks/data_table.ipynb>data table notebook</a>'\n",
              "            + ' to learn more about interactive tables.';\n",
              "          element.innerHTML = '';\n",
              "          dataTable['output_type'] = 'display_data';\n",
              "          await google.colab.output.renderOutput(dataTable, element);\n",
              "          const docLink = document.createElement('div');\n",
              "          docLink.innerHTML = docLinkHtml;\n",
              "          element.appendChild(docLink);\n",
              "        }\n",
              "      </script>\n",
              "    </div>\n",
              "  </div>\n",
              "  "
            ]
          },
          "metadata": {},
          "execution_count": 38
        }
      ]
    },
    {
      "cell_type": "code",
      "source": [
        "df1.plot.scatter(x='ddd', y='de')"
      ],
      "metadata": {
        "colab": {
          "base_uri": "https://localhost:8080/",
          "height": 297
        },
        "id": "LlQqVh0UEYD3",
        "outputId": "23896e5a-e501-4659-d23a-14631865c209"
      },
      "execution_count": null,
      "outputs": [
        {
          "output_type": "execute_result",
          "data": {
            "text/plain": [
              "<matplotlib.axes._subplots.AxesSubplot at 0x7fd66d7e8850>"
            ]
          },
          "metadata": {},
          "execution_count": 39
        },
        {
          "output_type": "display_data",
          "data": {
            "text/plain": [
              "<Figure size 432x288 with 1 Axes>"
            ],
            "image/png": "[encoded data removed]"
          },
          "metadata": {
            "needs_background": "light"
          }
        }
      ]
    },
    {
      "cell_type": "code",
      "source": [
        "df1.plot.scatter(x='ddd', y='dl')"
      ],
      "metadata": {
        "colab": {
          "base_uri": "https://localhost:8080/",
          "height": 297
        },
        "id": "M_lvnAnqEtQb",
        "outputId": "38282a10-f8cb-4a63-ac28-41378b8feb83"
      },
      "execution_count": null,
      "outputs": [
        {
          "output_type": "execute_result",
          "data": {
            "text/plain": [
              "<matplotlib.axes._subplots.AxesSubplot at 0x7fd66aa7ca90>"
            ]
          },
          "metadata": {},
          "execution_count": 40
        },
        {
          "output_type": "display_data",
          "data": {
            "text/plain": [
              "<Figure size 432x288 with 1 Axes>"
            ],
            "image/png": "[encoded data removed]"
          },
          "metadata": {
            "needs_background": "light"
          }
        }
      ]
    },
    {
      "cell_type": "code",
      "source": [
        "import matplotlib.pyplot as plt"
      ],
      "metadata": {
        "id": "QcggnwG5EuKD"
      },
      "execution_count": null,
      "outputs": []
    },
    {
      "cell_type": "code",
      "source": [
        "from numpy.ma.core import arange\n",
        "fig = plt.figure()\n",
        "ax = fig.add_subplot(111, projection='3d')\n",
        "\n",
        "for i in np.unique(df1['localidad']):\n",
        "  df1_fil = df1[df1['localidad']==i]\n",
        "  ax.scatter(df1_fil['ddd'], df1_fil['de'], df1_fil['dl'],\n",
        "             label = f'localidad: {i}')\n",
        "\n",
        "ax.legend()\n",
        "ax.set_xlabel('DDD')\n",
        "ax.set_ylabel('Diam Ecuatorial')\n",
        "ax.set_zlabel('Diam Longitudinal')\n",
        "plt.show()"
      ],
      "metadata": {
        "colab": {
          "base_uri": "https://localhost:8080/",
          "height": 248
        },
        "id": "PnVr43WUFIWy",
        "outputId": "2b6e927f-5d18-4013-eef1-8f08ffc93600"
      },
      "execution_count": null,
      "outputs": [
        {
          "output_type": "display_data",
          "data": {
            "text/plain": [
              "<Figure size 432x288 with 1 Axes>"
            ],
            "image/png": "[encoded data removed]"
          },
          "metadata": {
            "needs_background": "light"
          }
        }
      ]
    },
    {
      "cell_type": "code",
      "source": [
        "df1['idx1'] = df1['de']/df1['dl']\n",
        "df1['idx2'] = df1['dl']/df1['de']\n",
        "df1.head()"
      ],
      "metadata": {
        "colab": {
          "base_uri": "https://localhost:8080/",
          "height": 206
        },
        "id": "-owQ_lZxJfLq",
        "outputId": "d9405201-1817-47e0-f268-e8890debe48e"
      },
      "execution_count": null,
      "outputs": [
        {
          "output_type": "execute_result",
          "data": {
            "text/plain": [
              "         de        dl  ddd localidad      idx1      idx2\n",
              "0  1.201411  1.431534   15        l1  0.839247  1.191544\n",
              "1  1.573321  2.069945   15        l1  0.760079  1.315654\n",
              "2  1.876900  2.126534   15        l2  0.882610  1.133004\n",
              "3  2.228467  2.247758   15        l2  0.991418  1.008656\n",
              "4  2.272331  2.265629   22        l1  1.002958  0.997051"
            ],
            "text/html": [
              "\n",
              "  <div id=\"df-4c43c319-4e64-44f9-8839-254c93ead2fa\">\n",
              "    <div class=\"colab-df-container\">\n",
              "      <div>\n",
              "<style scoped>\n",
              "    .dataframe tbody tr th:only-of-type {\n",
              "        vertical-align: middle;\n",
              "    }\n",
              "\n",
              "    .dataframe tbody tr th {\n",
              "        vertical-align: top;\n",
              "    }\n",
              "\n",
              "    .dataframe thead th {\n",
              "        text-align: right;\n",
              "    }\n",
              "</style>\n",
              "<table border=\"1\" class=\"dataframe\">\n",
              "  <thead>\n",
              "    <tr style=\"text-align: right;\">\n",
              "      <th></th>\n",
              "      <th>de</th>\n",
              "      <th>dl</th>\n",
              "      <th>ddd</th>\n",
              "      <th>localidad</th>\n",
              "      <th>idx1</th>\n",
              "      <th>idx2</th>\n",
              "    </tr>\n",
              "  </thead>\n",
              "  <tbody>\n",
              "    <tr>\n",
              "      <th>0</th>\n",
              "      <td>1.201411</td>\n",
              "      <td>1.431534</td>\n",
              "      <td>15</td>\n",
              "      <td>l1</td>\n",
              "      <td>0.839247</td>\n",
              "      <td>1.191544</td>\n",
              "    </tr>\n",
              "    <tr>\n",
              "      <th>1</th>\n",
              "      <td>1.573321</td>\n",
              "      <td>2.069945</td>\n",
              "      <td>15</td>\n",
              "      <td>l1</td>\n",
              "      <td>0.760079</td>\n",
              "      <td>1.315654</td>\n",
              "    </tr>\n",
              "    <tr>\n",
              "      <th>2</th>\n",
              "      <td>1.876900</td>\n",
              "      <td>2.126534</td>\n",
              "      <td>15</td>\n",
              "      <td>l2</td>\n",
              "      <td>0.882610</td>\n",
              "      <td>1.133004</td>\n",
              "    </tr>\n",
              "    <tr>\n",
              "      <th>3</th>\n",
              "      <td>2.228467</td>\n",
              "      <td>2.247758</td>\n",
              "      <td>15</td>\n",
              "      <td>l2</td>\n",
              "      <td>0.991418</td>\n",
              "      <td>1.008656</td>\n",
              "    </tr>\n",
              "    <tr>\n",
              "      <th>4</th>\n",
              "      <td>2.272331</td>\n",
              "      <td>2.265629</td>\n",
              "      <td>22</td>\n",
              "      <td>l1</td>\n",
              "      <td>1.002958</td>\n",
              "      <td>0.997051</td>\n",
              "    </tr>\n",
              "  </tbody>\n",
              "</table>\n",
              "</div>\n",
              "      <button class=\"colab-df-convert\" onclick=\"convertToInteractive('df-4c43c319-4e64-44f9-8839-254c93ead2fa')\"\n",
              "              title=\"Convert this dataframe to an interactive table.\"\n",
              "              style=\"display:none;\">\n",
              "        \n",
              "  <svg xmlns=\"http://www.w3.org/2000/svg\" height=\"24px\"viewBox=\"0 0 24 24\"\n",
              "       width=\"24px\">\n",
              "    <path d=\"M0 0h24v24H0V0z\" fill=\"none\"/>\n",
              "    <path d=\"M18.56 5.44l.94 2.06.94-2.06 2.06-.94-2.06-.94-.94-2.06-.94 2.06-2.06.94zm-11 1L8.5 8.5l.94-2.06 2.06-.94-2.06-.94L8.5 2.5l-.94 2.06-2.06.94zm10 10l.94 2.06.94-2.06 2.06-.94-2.06-.94-.94-2.06-.94 2.06-2.06.94z\"/><path d=\"M17.41 7.96l-1.37-1.37c-.4-.4-.92-.59-1.43-.59-.52 0-1.04.2-1.43.59L10.3 9.45l-7.72 7.72c-.78.78-.78 2.05 0 2.83L4 21.41c.39.39.9.59 1.41.59.51 0 1.02-.2 1.41-.59l7.78-7.78 2.81-2.81c.8-.78.8-2.07 0-2.86zM5.41 20L4 18.59l7.72-7.72 1.47 1.35L5.41 20z\"/>\n",
              "  </svg>\n",
              "      </button>\n",
              "      \n",
              "  <style>\n",
              "    .colab-df-container {\n",
              "      display:flex;\n",
              "      flex-wrap:wrap;\n",
              "      gap: 12px;\n",
              "    }\n",
              "\n",
              "    .colab-df-convert {\n",
              "      background-color: #E8F0FE;\n",
              "      border: none;\n",
              "      border-radius: 50%;\n",
              "      cursor: pointer;\n",
              "      display: none;\n",
              "      fill: #1967D2;\n",
              "      height: 32px;\n",
              "      padding: 0 0 0 0;\n",
              "      width: 32px;\n",
              "    }\n",
              "\n",
              "    .colab-df-convert:hover {\n",
              "      background-color: #E2EBFA;\n",
              "      box-shadow: 0px 1px 2px rgba(60, 64, 67, 0.3), 0px 1px 3px 1px rgba(60, 64, 67, 0.15);\n",
              "      fill: #174EA6;\n",
              "    }\n",
              "\n",
              "    [theme=dark] .colab-df-convert {\n",
              "      background-color: #3B4455;\n",
              "      fill: #D2E3FC;\n",
              "    }\n",
              "\n",
              "    [theme=dark] .colab-df-convert:hover {\n",
              "      background-color: #434B5C;\n",
              "      box-shadow: 0px 1px 3px 1px rgba(0, 0, 0, 0.15);\n",
              "      filter: drop-shadow(0px 1px 2px rgba(0, 0, 0, 0.3));\n",
              "      fill: #FFFFFF;\n",
              "    }\n",
              "  </style>\n",
              "\n",
              "      <script>\n",
              "        const buttonEl =\n",
              "          document.querySelector('#df-4c43c319-4e64-44f9-8839-254c93ead2fa button.colab-df-convert');\n",
              "        buttonEl.style.display =\n",
              "          google.colab.kernel.accessAllowed ? 'block' : 'none';\n",
              "\n",
              "        async function convertToInteractive(key) {\n",
              "          const element = document.querySelector('#df-4c43c319-4e64-44f9-8839-254c93ead2fa');\n",
              "          const dataTable =\n",
              "            await google.colab.kernel.invokeFunction('convertToInteractive',\n",
              "                                                     [key], {});\n",
              "          if (!dataTable) return;\n",
              "\n",
              "          const docLinkHtml = 'Like what you see? Visit the ' +\n",
              "            '<a target=\"_blank\" href=https://colab.research.google.com/notebooks/data_table.ipynb>data table notebook</a>'\n",
              "            + ' to learn more about interactive tables.';\n",
              "          element.innerHTML = '';\n",
              "          dataTable['output_type'] = 'display_data';\n",
              "          await google.colab.output.renderOutput(dataTable, element);\n",
              "          const docLink = document.createElement('div');\n",
              "          docLink.innerHTML = docLinkHtml;\n",
              "          element.appendChild(docLink);\n",
              "        }\n",
              "      </script>\n",
              "    </div>\n",
              "  </div>\n",
              "  "
            ]
          },
          "metadata": {},
          "execution_count": 56
        }
      ]
    },
    {
      "cell_type": "code",
      "source": [
        "plt.scatter(df1['ddd'], df1['idx2'])\n",
        "plt.xlabel('DDD')\n",
        "plt.ylabel('Indicie')\n",
        "plt.show()"
      ],
      "metadata": {
        "colab": {
          "base_uri": "https://localhost:8080/",
          "height": 279
        },
        "id": "z-uoibxbJ8vH",
        "outputId": "3e46f976-7c15-4808-f277-4a0906489cc7"
      },
      "execution_count": null,
      "outputs": [
        {
          "output_type": "display_data",
          "data": {
            "text/plain": [
              "<Figure size 432x288 with 1 Axes>"
            ],
            "image/png": "[encoded data removed]"
          },
          "metadata": {
            "needs_background": "light"
          }
        }
      ]
    },
    {
      "cell_type": "code",
      "source": [
        "plt.scatter(df1[df1['localidad']=='l1']['ddd'],\n",
        "            df1[df1['localidad']=='l1']['idx2'])\n",
        "plt.xlabel('DDD')\n",
        "plt.ylabel('Indicie')\n",
        "plt.show()"
      ],
      "metadata": {
        "colab": {
          "base_uri": "https://localhost:8080/",
          "height": 279
        },
        "id": "kQLsk_2bOyT2",
        "outputId": "35c2edba-6e12-4d2d-97d8-d7aa7d92ce35"
      },
      "execution_count": null,
      "outputs": [
        {
          "output_type": "display_data",
          "data": {
            "text/plain": [
              "<Figure size 432x288 with 1 Axes>"
            ],
            "image/png": "[encoded data removed]"
          },
          "metadata": {
            "needs_background": "light"
          }
        }
      ]
    },
    {
      "cell_type": "code",
      "source": [
        "a = df1['dl']/2\n",
        "b = df1['de']/2\n",
        "\n",
        "df1['e'] = np.sqrt(np.abs(1-(b/a)**2))\n",
        "df1.head()"
      ],
      "metadata": {
        "colab": {
          "base_uri": "https://localhost:8080/",
          "height": 206
        },
        "id": "9NADQpNVPKzv",
        "outputId": "2dee5be1-ea8b-4bbc-e661-e60a0d6c38f4"
      },
      "execution_count": null,
      "outputs": [
        {
          "output_type": "execute_result",
          "data": {
            "text/plain": [
              "         de        dl  ddd localidad      idx1      idx2         e\n",
              "0  1.201411  1.431534   15        l1  0.839247  1.191544  0.543751\n",
              "1  1.573321  2.069945   15        l1  0.760079  1.315654  0.649831\n",
              "2  1.876900  2.126534   15        l2  0.882610  1.133004  0.470107\n",
              "3  2.228467  2.247758   15        l2  0.991418  1.008656  0.130732\n",
              "4  2.272331  2.265629   22        l1  1.002958  0.997051  0.076970"
            ],
            "text/html": [
              "\n",
              "  <div id=\"df-050f40ea-39f0-4754-a279-f232a2313c37\">\n",
              "    <div class=\"colab-df-container\">\n",
              "      <div>\n",
              "<style scoped>\n",
              "    .dataframe tbody tr th:only-of-type {\n",
              "        vertical-align: middle;\n",
              "    }\n",
              "\n",
              "    .dataframe tbody tr th {\n",
              "        vertical-align: top;\n",
              "    }\n",
              "\n",
              "    .dataframe thead th {\n",
              "        text-align: right;\n",
              "    }\n",
              "</style>\n",
              "<table border=\"1\" class=\"dataframe\">\n",
              "  <thead>\n",
              "    <tr style=\"text-align: right;\">\n",
              "      <th></th>\n",
              "      <th>de</th>\n",
              "      <th>dl</th>\n",
              "      <th>ddd</th>\n",
              "      <th>localidad</th>\n",
              "      <th>idx1</th>\n",
              "      <th>idx2</th>\n",
              "      <th>e</th>\n",
              "    </tr>\n",
              "  </thead>\n",
              "  <tbody>\n",
              "    <tr>\n",
              "      <th>0</th>\n",
              "      <td>1.201411</td>\n",
              "      <td>1.431534</td>\n",
              "      <td>15</td>\n",
              "      <td>l1</td>\n",
              "      <td>0.839247</td>\n",
              "      <td>1.191544</td>\n",
              "      <td>0.543751</td>\n",
              "    </tr>\n",
              "    <tr>\n",
              "      <th>1</th>\n",
              "      <td>1.573321</td>\n",
              "      <td>2.069945</td>\n",
              "      <td>15</td>\n",
              "      <td>l1</td>\n",
              "      <td>0.760079</td>\n",
              "      <td>1.315654</td>\n",
              "      <td>0.649831</td>\n",
              "    </tr>\n",
              "    <tr>\n",
              "      <th>2</th>\n",
              "      <td>1.876900</td>\n",
              "      <td>2.126534</td>\n",
              "      <td>15</td>\n",
              "      <td>l2</td>\n",
              "      <td>0.882610</td>\n",
              "      <td>1.133004</td>\n",
              "      <td>0.470107</td>\n",
              "    </tr>\n",
              "    <tr>\n",
              "      <th>3</th>\n",
              "      <td>2.228467</td>\n",
              "      <td>2.247758</td>\n",
              "      <td>15</td>\n",
              "      <td>l2</td>\n",
              "      <td>0.991418</td>\n",
              "      <td>1.008656</td>\n",
              "      <td>0.130732</td>\n",
              "    </tr>\n",
              "    <tr>\n",
              "      <th>4</th>\n",
              "      <td>2.272331</td>\n",
              "      <td>2.265629</td>\n",
              "      <td>22</td>\n",
              "      <td>l1</td>\n",
              "      <td>1.002958</td>\n",
              "      <td>0.997051</td>\n",
              "      <td>0.076970</td>\n",
              "    </tr>\n",
              "  </tbody>\n",
              "</table>\n",
              "</div>\n",
              "      <button class=\"colab-df-convert\" onclick=\"convertToInteractive('df-050f40ea-39f0-4754-a279-f232a2313c37')\"\n",
              "              title=\"Convert this dataframe to an interactive table.\"\n",
              "              style=\"display:none;\">\n",
              "        \n",
              "  <svg xmlns=\"http://www.w3.org/2000/svg\" height=\"24px\"viewBox=\"0 0 24 24\"\n",
              "       width=\"24px\">\n",
              "    <path d=\"M0 0h24v24H0V0z\" fill=\"none\"/>\n",
              "    <path d=\"M18.56 5.44l.94 2.06.94-2.06 2.06-.94-2.06-.94-.94-2.06-.94 2.06-2.06.94zm-11 1L8.5 8.5l.94-2.06 2.06-.94-2.06-.94L8.5 2.5l-.94 2.06-2.06.94zm10 10l.94 2.06.94-2.06 2.06-.94-2.06-.94-.94-2.06-.94 2.06-2.06.94z\"/><path d=\"M17.41 7.96l-1.37-1.37c-.4-.4-.92-.59-1.43-.59-.52 0-1.04.2-1.43.59L10.3 9.45l-7.72 7.72c-.78.78-.78 2.05 0 2.83L4 21.41c.39.39.9.59 1.41.59.51 0 1.02-.2 1.41-.59l7.78-7.78 2.81-2.81c.8-.78.8-2.07 0-2.86zM5.41 20L4 18.59l7.72-7.72 1.47 1.35L5.41 20z\"/>\n",
              "  </svg>\n",
              "      </button>\n",
              "      \n",
              "  <style>\n",
              "    .colab-df-container {\n",
              "      display:flex;\n",
              "      flex-wrap:wrap;\n",
              "      gap: 12px;\n",
              "    }\n",
              "\n",
              "    .colab-df-convert {\n",
              "      background-color: #E8F0FE;\n",
              "      border: none;\n",
              "      border-radius: 50%;\n",
              "      cursor: pointer;\n",
              "      display: none;\n",
              "      fill: #1967D2;\n",
              "      height: 32px;\n",
              "      padding: 0 0 0 0;\n",
              "      width: 32px;\n",
              "    }\n",
              "\n",
              "    .colab-df-convert:hover {\n",
              "      background-color: #E2EBFA;\n",
              "      box-shadow: 0px 1px 2px rgba(60, 64, 67, 0.3), 0px 1px 3px 1px rgba(60, 64, 67, 0.15);\n",
              "      fill: #174EA6;\n",
              "    }\n",
              "\n",
              "    [theme=dark] .colab-df-convert {\n",
              "      background-color: #3B4455;\n",
              "      fill: #D2E3FC;\n",
              "    }\n",
              "\n",
              "    [theme=dark] .colab-df-convert:hover {\n",
              "      background-color: #434B5C;\n",
              "      box-shadow: 0px 1px 3px 1px rgba(0, 0, 0, 0.15);\n",
              "      filter: drop-shadow(0px 1px 2px rgba(0, 0, 0, 0.3));\n",
              "      fill: #FFFFFF;\n",
              "    }\n",
              "  </style>\n",
              "\n",
              "      <script>\n",
              "        const buttonEl =\n",
              "          document.querySelector('#df-050f40ea-39f0-4754-a279-f232a2313c37 button.colab-df-convert');\n",
              "        buttonEl.style.display =\n",
              "          google.colab.kernel.accessAllowed ? 'block' : 'none';\n",
              "\n",
              "        async function convertToInteractive(key) {\n",
              "          const element = document.querySelector('#df-050f40ea-39f0-4754-a279-f232a2313c37');\n",
              "          const dataTable =\n",
              "            await google.colab.kernel.invokeFunction('convertToInteractive',\n",
              "                                                     [key], {});\n",
              "          if (!dataTable) return;\n",
              "\n",
              "          const docLinkHtml = 'Like what you see? Visit the ' +\n",
              "            '<a target=\"_blank\" href=https://colab.research.google.com/notebooks/data_table.ipynb>data table notebook</a>'\n",
              "            + ' to learn more about interactive tables.';\n",
              "          element.innerHTML = '';\n",
              "          dataTable['output_type'] = 'display_data';\n",
              "          await google.colab.output.renderOutput(dataTable, element);\n",
              "          const docLink = document.createElement('div');\n",
              "          docLink.innerHTML = docLinkHtml;\n",
              "          element.appendChild(docLink);\n",
              "        }\n",
              "      </script>\n",
              "    </div>\n",
              "  </div>\n",
              "  "
            ]
          },
          "metadata": {},
          "execution_count": 64
        }
      ]
    },
    {
      "cell_type": "code",
      "source": [
        "plt.scatter(df1['ddd'],\n",
        "            df1['e'])\n",
        "plt.xlabel('DDD')\n",
        "plt.ylabel('E')\n",
        "plt.show()"
      ],
      "metadata": {
        "colab": {
          "base_uri": "https://localhost:8080/",
          "height": 279
        },
        "id": "35ofEvqIRJgQ",
        "outputId": "454bf5f8-e91b-4c18-8b57-b19e8588ec40"
      },
      "execution_count": null,
      "outputs": [
        {
          "output_type": "display_data",
          "data": {
            "text/plain": [
              "<Figure size 432x288 with 1 Axes>"
            ],
            "image/png": "[encoded data removed]"
          },
          "metadata": {
            "needs_background": "light"
          }
        }
      ]
    },
    {
      "cell_type": "markdown",
      "source": [
        "### Asignación\n",
        "\n",
        "1. Convertir en coordenadas polares los datos de `de` y `dl`\n",
        "2. Graficar un cardioide en coordenadas polares en Python"
      ],
      "metadata": {
        "id": "3pRq6ZUSTnFL"
      }
    }
  ]
}