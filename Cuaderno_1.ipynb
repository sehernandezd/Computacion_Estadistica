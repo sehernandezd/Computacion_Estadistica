{
  "nbformat": 4,
  "nbformat_minor": 0,
  "metadata": {
    "colab": {
      "name": "Comp_Est_03072022.ipynb",
      "provenance": [],
      "collapsed_sections": []
    },
    "kernelspec": {
      "name": "python3",
      "display_name": "Python 3"
    },
    "language_info": {
      "name": "python"
    }
  },
  "cells": [
    {
      "cell_type": "markdown",
      "source": [
        "\n",
        "<h1>Computación estadística!</h1>\n"
      ],
      "metadata": {
        "id": "l-YAFbgJBRcB"
      }
    },
    {
      "cell_type": "markdown",
      "source": [
        "#Cuaderno 1\n",
        "*07 de Marzo de 2022*"
      ],
      "metadata": {
        "id": "Qx7v82l79UMS"
      }
    },
    {
      "cell_type": "markdown",
      "source": [
        "---\n",
        "Subir un archivo desde excel\n",
        "\n",
        "1. En el menu izquierdo abrir `files`\n",
        "2. Conectar el `Drive`\n",
        "3. Buscar el archivo dentro de `MyDrive`\n",
        "4. Copiar el `Path`\n",
        "\n",
        "\n"
      ],
      "metadata": {
        "id": "mZusSUIQA9us"
      }
    },
    {
      "cell_type": "markdown",
      "source": [
        "---\n",
        "Crear un notebook que haga las siguientes tareas:\n",
        "\n",
        "1.  Cargar un archivo de excel con una ruta permanente en drive (apoyarse en el modulo `pandas`)\n",
        "2.  Cargar una matriz $4*4$ en el notebook\n",
        "3.  Copiar una imagen del internet y llevarla a Notebook\n",
        "4.  Crear una tabla en ($\\LaTeX$)\n",
        "5.  Copiar una ecuación y llevarla a ($\\LaTeX$)\n",
        "\n",
        "Crear una cuenta en [GitHub](https://github.com/)\n",
        "\n",
        "1. Entrar al link\n",
        "2. Crear Cuenta\n",
        "3. Crear un nuevo repositorio público\n",
        "4. Subir los Archivos .ipynb\n",
        "\n"
      ],
      "metadata": {
        "id": "muO8FJxZDsHR"
      }
    },
    {
      "cell_type": "markdown",
      "source": [
        "---\n",
        "## Solución"
      ],
      "metadata": {
        "id": "83V6raD7Cz66"
      }
    },
    {
      "cell_type": "markdown",
      "source": [
        "#### 1. Cargar un archivo con ruta permanente"
      ],
      "metadata": {
        "id": "YahdYelXFvIV"
      }
    },
    {
      "cell_type": "code",
      "source": [
        "Link_archivo='/content/drive/MyDrive/My_Comp_Est_2022-1/california_housing_train.csv'"
      ],
      "metadata": {
        "id": "vJQtPH_HFzks"
      },
      "execution_count": 11,
      "outputs": []
    },
    {
      "cell_type": "markdown",
      "source": [
        ""
      ],
      "metadata": {
        "id": "BY4auxtM0AUX"
      }
    },
    {
      "cell_type": "code",
      "source": [
        "import pandas as pd\n",
        "Data=pd.read_csv(Link_archivo)"
      ],
      "metadata": {
        "id": "13oSsBilGKYX"
      },
      "execution_count": 12,
      "outputs": []
    },
    {
      "cell_type": "code",
      "source": [
        "print(Data)"
      ],
      "metadata": {
        "colab": {
          "base_uri": "https://localhost:8080/"
        },
        "id": "F8G1TpfTGvhQ",
        "outputId": "7179dda7-2f70-4ff6-b818-0fda6a8f0418"
      },
      "execution_count": 15,
      "outputs": [
        {
          "output_type": "stream",
          "name": "stdout",
          "text": [
            "       longitude  latitude  housing_median_age  total_rooms  total_bedrooms  \\\n",
            "0        -114.31     34.19                15.0       5612.0          1283.0   \n",
            "1        -114.47     34.40                19.0       7650.0          1901.0   \n",
            "2        -114.56     33.69                17.0        720.0           174.0   \n",
            "3        -114.57     33.64                14.0       1501.0           337.0   \n",
            "4        -114.57     33.57                20.0       1454.0           326.0   \n",
            "...          ...       ...                 ...          ...             ...   \n",
            "16995    -124.26     40.58                52.0       2217.0           394.0   \n",
            "16996    -124.27     40.69                36.0       2349.0           528.0   \n",
            "16997    -124.30     41.84                17.0       2677.0           531.0   \n",
            "16998    -124.30     41.80                19.0       2672.0           552.0   \n",
            "16999    -124.35     40.54                52.0       1820.0           300.0   \n",
            "\n",
            "       population  households  median_income  median_house_value  \n",
            "0          1015.0       472.0         1.4936             66900.0  \n",
            "1          1129.0       463.0         1.8200             80100.0  \n",
            "2           333.0       117.0         1.6509             85700.0  \n",
            "3           515.0       226.0         3.1917             73400.0  \n",
            "4           624.0       262.0         1.9250             65500.0  \n",
            "...           ...         ...            ...                 ...  \n",
            "16995       907.0       369.0         2.3571            111400.0  \n",
            "16996      1194.0       465.0         2.5179             79000.0  \n",
            "16997      1244.0       456.0         3.0313            103600.0  \n",
            "16998      1298.0       478.0         1.9797             85800.0  \n",
            "16999       806.0       270.0         3.0147             94600.0  \n",
            "\n",
            "[17000 rows x 9 columns]\n"
          ]
        }
      ]
    },
    {
      "cell_type": "markdown",
      "source": [
        "---\n",
        "#### 2. Cargar una matriz de 4$\\times$4 "
      ],
      "metadata": {
        "id": "1B0fuYNp050X"
      }
    },
    {
      "cell_type": "markdown",
      "source": [
        "Para este ejemplo opté por hacer una matríz de covarianza, las cuales generalmente tienen muchas aplicaciones estadísticas (se usa principalmente en el cálculo matricial de los coeficientes de la regresión lineal mediante Mínimos Cuadrados Ordinarios, entre otros usos).\n"
      ],
      "metadata": {
        "id": "qi2ndwecz6V8"
      }
    },
    {
      "cell_type": "markdown",
      "source": [
        "[Link para construir ecuaciones en $LaTeX$](https://editor.codecogs.com/?lang=es-es)\n",
        "\n",
        "[Link 2](https://www.math.uci.edu/~xiangwen/pdf/LaTeX-Math-Symbols.pdf?msclkid=923b04c9a22a11ec97c2ff4831f36d7a)"
      ],
      "metadata": {
        "id": "pgc21yBv343o"
      }
    },
    {
      "cell_type": "markdown",
      "source": [
        "$$\n",
        "\\Sigma =\\begin{pmatrix}\n",
        " Var(X_1) & Cov(X_1,X_2) & Cov(X_1,X_3)  & Cov(X_1,X_4)  \\\\\n",
        " Cov(X_2,x1) & Var(X_2) & Cov(X_2,X_3)  & Cov(X_2,X_4)  \\\\\n",
        " Cov(X_3,x1) & Cov(X_3,X_2) & Var(X_3)  & Cov(X_3,X_4)  \\\\\n",
        " Cov(X_4,x1) & Cov(X_4,X_2) & Cov(X_4,X_3)  & Var(X_4)  \\\\\n",
        "\\end{pmatrix}\n",
        "$$\n"
      ],
      "metadata": {
        "id": "OX6_lT4UAHtW"
      }
    },
    {
      "cell_type": "markdown",
      "source": [
        "De manera más general:"
      ],
      "metadata": {
        "id": "AoTtab6I3Psr"
      }
    },
    {
      "cell_type": "markdown",
      "source": [
        "$$\n",
        "\\Sigma =\\begin{pmatrix}\n",
        " \\sigma_{11}^2 & \\sigma_{12} & ... & \\sigma_{1m} \\\\\n",
        " \\sigma_{21} & \\sigma_{22}^2 & ... & \\sigma_{2m} \\\\\n",
        " \\vdots & \\vdots & \\ddots & \\vdots \\\\\n",
        " \\sigma_{n1} & \\sigma_{n2} & ... & \\sigma_{nm}^2 \\\\\n",
        "\\end{pmatrix}\n",
        "$$"
      ],
      "metadata": {
        "id": "1-8kVu_48NHn"
      }
    },
    {
      "cell_type": "markdown",
      "source": [
        "---\n",
        "#### 3. Subir Una imagen desde la web\n",
        "\n",
        "\n",
        "![Imágen](https://image.slidesharecdn.com/7distribucionnormal-160922225932/95/7-distribucion-normal-16-638.jpg?cb=1474585246)"
      ],
      "metadata": {
        "id": "6GXJ19Y2A24M"
      }
    },
    {
      "cell_type": "markdown",
      "source": [
        "---\n",
        "#### 4. Cargar una tabla en $\\LaTeX$, ejemplos de plantillas online:"
      ],
      "metadata": {
        "id": "3xeBZ2HWIFGX"
      }
    },
    {
      "cell_type": "markdown",
      "source": [
        "\\begin{array}{ccc}\n",
        "\\text{foo}&\\text{bar}&\\text{baz}\\\\\n",
        "1&2&3\n",
        "\\end{array}\n",
        "\n",
        "\\begin{array}{|c|c|} \\hline\n",
        "column1 & column2 & column3 & column4 \\\\ \\hline\n",
        "foo & bar & foo & bar \\\\\n",
        "foo & bar & foo & bar \\\\\n",
        "foo & bar & foo & bar \\\\ \\hline\n",
        "\\end{array}\n",
        "\n",
        "\\begin{array}{c} \\hline\n",
        "column1 & column2 & column3 & column4 \\\\ \\hline\n",
        "foo & bar & foo & bar \\\\\n",
        "foo & bar & foo & bar \\\\\n",
        "foo & bar & foo & bar \\\\ \\hline\n",
        "\\end{array}\n",
        "\n",
        "\\begin{array}{|c|c|} \\hline\n",
        "column1 & column2 & column3 & column4 \\\\ \\hline\n",
        "foo & bar & foo & bar \\\\ \\hline\n",
        "foo & bar & foo & bar \\\\\\hline\n",
        "foo & bar & foo & bar \\\\ \\hline\n",
        "\\end{array}\n",
        "\n",
        "\\begin{array}{|c|c|} \\hline\n",
        "column1 & column2 & column3 & column4 \\\\ \\hline\n",
        "foo & bar & foo & bar \\\\\n",
        "foo & bar & foo & bar \\\\\n",
        "foo & bar & foo & bar \\\\ \\hline\n",
        "\\end{array}"
      ],
      "metadata": {
        "id": "VPBsvwOZ7Lz6"
      }
    },
    {
      "cell_type": "markdown",
      "source": [
        "Se construyo una tabla con algunas medidas empleadas en Estadística:\n",
        "$$\n",
        "\\begin{array}{|c|c|} \\hline\n",
        "Nombre & Fórmula\\\\ \\hline\n",
        "Desviación \\ estándar & \\sigma=\\sqrt{ \\frac{1}{n}\\times\\sum_{i=1}^N(X_i-\\bar{X})^2}  \\\\ \\hline\n",
        "Varianza & \\sigma^2=\\frac{1}{n}\\times\\sum_{i=1}^N(X_i-\\bar{X})^2 \\\\ \\hline\n",
        "Desviación \\ media & D_m=\\frac{1}{n}\\times\\sum_{i=1}^N |X_i-\\bar{X}|    \\\\ \\hline\n",
        "Mediana &  X\\times\\frac{n+1}{2} \\ si \\ N\\  impar \\\\ \n",
        "        &  \\frac{1}{2}\\times(X\\frac{N}{2}+X(\\frac{N}{2}+1)) \\ si \\ N\\  par \\\\  \\hline\n",
        "Moda & Datos \\ más \\ repitidos \\\\ \\hline\n",
        "Media & \\bar{X}=\\frac{1}{N}\\sum_{i=1}^NX_i\\\\ \\hline\n",
        "\\end{array}\n",
        "$$"
      ],
      "metadata": {
        "id": "Y9tTN4hZLHR5"
      }
    },
    {
      "cell_type": "markdown",
      "source": [
        "---\n",
        "#### 4. Subir una ecuación en $\\LaTeX$\n",
        "\n",
        "$\n",
        "\\widehat{Y_i}= a+b \\cdot X_i\\\\\n",
        "Con:\\\\\\\\\n",
        "a=\\frac{\\sum X_i^2 \\cdot \\sum Y_i-\\sum X_i \\cdot \\sum X_i \\cdot Y_i}{n \\cdot \\sum X_i^2-(\\sum X_i)^2}\\\\ \\\\\n",
        "Pendiente:\\\\ \\\\\n",
        "b=\\frac{n \\cdot\\sum X_i \\cdot Y_i - \\sum X_i \\cdot \\sum Y_i}{n \\cdot \\sum X_i^2 - (\\sum X_i)^2}\n",
        "$\n"
      ],
      "metadata": {
        "id": "8ouT7gNlQdz6"
      }
    }
  ]
}