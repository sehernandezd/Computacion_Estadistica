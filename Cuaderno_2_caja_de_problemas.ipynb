{
  "nbformat": 4,
  "nbformat_minor": 0,
  "metadata": {
    "colab": {
      "name": "Computación_03142022.ipynb",
      "provenance": [],
      "collapsed_sections": []
    },
    "kernelspec": {
      "name": "python3",
      "display_name": "Python 3"
    },
    "language_info": {
      "name": "python"
    }
  },
  "cells": [
    {
      "cell_type": "markdown",
      "source": [
        "<h1>Computación estadística!</h1>\n"
      ],
      "metadata": {
        "id": "ivOZhyqV3FEQ"
      }
    },
    {
      "cell_type": "markdown",
      "source": [
        "#Cuaderno 2\n",
        "*14 de Marzo de 2022*"
      ],
      "metadata": {
        "id": "3zXL4Bbz3Gbh"
      }
    },
    {
      "cell_type": "markdown",
      "source": [
        "---\n",
        "# `PROBLEMAS DE TAREA:`\n",
        "---"
      ],
      "metadata": {
        "id": "DOcRfUQ5LGH3"
      }
    },
    {
      "cell_type": "markdown",
      "source": [
        "LLeve a código funcional las siguientes funciones (para obtener soluciones reales): $$$$\n",
        "a. $$Y_1=log(x)$$\n",
        "b. $$Y_2=log(\\sqrt x)$$\n",
        "c. $$Y_3=log(\\sqrt {x^2-1})$$\n",
        "d. $$Y_4=\\frac{log(\\sqrt {x^-1})}{x^2+1}$$\n",
        "e. $$Y_5=\\frac{x-1}{log(x)}$$\n",
        "f. $$Y_6=\\frac{1}{x}+\\sqrt{x-1}$$\n",
        "g. $$Y_7=\\frac{1}{x}+\\sqrt{x-1}-\\frac{1}{log(\\frac{1}{x+1})}$$\n",
        "h. $$Y_8=\\frac{2}{x^2+1}$$\n",
        "i. $$Y_9=\\frac{1}{n}\\sum_{i=1}^n(x_i-\\overline{x})^2$$\n",
        "k. $$Y_{10}=\\frac{1}{n}\\sum_{i=1}^n(x_i-\\overline{x})^2$$\n",
        "$$Y_{11}=\\frac{\\sqrt {y_{10}}}{y_9}$$\n",
        "\n",
        "\n",
        "\n"
      ],
      "metadata": {
        "id": "N5SA9tvNLZHA"
      }
    },
    {
      "cell_type": "markdown",
      "source": [
        "---\n",
        "a."
      ],
      "metadata": {
        "id": "6wVRFve1ilBT"
      }
    },
    {
      "cell_type": "code",
      "source": [
        "import math\n",
        "from math import log\n",
        "import numpy as np\n",
        "#1. Solicitamos el valor de ingreso\n",
        "x=input('Digite un valor númerico: ')\n",
        "\n",
        "try:\n",
        "  x=float(x)\n",
        "except ValueError:\n",
        "  a='No Es un número entero ni flotante'\n",
        "\n",
        "\n",
        "#if(x.isnumeric()):\n",
        "if(type(x)==float):\n",
        "  \n",
        "  if (x>0):\n",
        "    print('El valor es: ',log(x,10))\n",
        "\n",
        "  else:\n",
        "    print('No ingreso un valor mayor a cero')\n",
        "else:\n",
        "  print('No ingreso un valor númerico')\n"
      ],
      "metadata": {
        "colab": {
          "base_uri": "https://localhost:8080/",
          "height": 0
        },
        "id": "9KtozKuQikVr",
        "outputId": "5525bd0e-628f-4833-ce15-5f216b86b2fc"
      },
      "execution_count": 72,
      "outputs": [
        {
          "output_type": "stream",
          "name": "stdout",
          "text": [
            "Digite un valo númerico: 1\n",
            "El valor es:  0.0\n"
          ]
        }
      ]
    },
    {
      "cell_type": "markdown",
      "source": [
        "---\n",
        "b."
      ],
      "metadata": {
        "id": "R1daS_sanj6Q"
      }
    },
    {
      "cell_type": "code",
      "source": [
        "import numpy as np\n",
        "import math\n",
        "from math import log\n",
        "#1. Solicitamos el valor de ingreso\n",
        "x=input('Digite un valor númerico: ')\n",
        "\n",
        "try:\n",
        "  x=float(x)\n",
        "except ValueError:\n",
        "  a='No Es un número entero ni flotante'\n",
        "\n",
        "if(type(x)==float):\n",
        "  \n",
        "  if (x>0):\n",
        "    print('El valor es: ',log(np.sqrt(x),10))\n",
        "  else:\n",
        "    print('No ingreso un valor mayor a cero')\n",
        "else:\n",
        "  print('No ingreso un valor númerico')"
      ],
      "metadata": {
        "colab": {
          "base_uri": "https://localhost:8080/",
          "height": 0
        },
        "id": "RvFp3zi2nwlF",
        "outputId": "46e6cb88-f438-4b31-cbea-2cec759a4fbf"
      },
      "execution_count": 73,
      "outputs": [
        {
          "output_type": "stream",
          "name": "stdout",
          "text": [
            "Digite un valo númerico: 1\n",
            "El valor es:  0.0\n"
          ]
        }
      ]
    },
    {
      "cell_type": "markdown",
      "source": [
        "---\n",
        "c."
      ],
      "metadata": {
        "id": "Chfk_DjnnkRA"
      }
    },
    {
      "cell_type": "code",
      "source": [
        "import numpy as np\n",
        "import math\n",
        "from math import log\n",
        "#1. Solicitamos el valor de ingreso\n",
        "x=input('Digite un valor númerico: ')\n",
        "\n",
        "try:\n",
        "  x=(float(x))\n",
        "except ValueError:\n",
        "  a='No Es un número entero ni flotante'\n",
        "\n",
        "if(type(x)==float):\n",
        "  if((x**2)-1>0):\n",
        "    print('El valor es: ',log(np.sqrt((x**2)-1),10))\n",
        "  else:\n",
        "    print('La respuesta conlleva a un número complejo')\n",
        "else:\n",
        "  print('No ingreso un valor númerico')"
      ],
      "metadata": {
        "colab": {
          "base_uri": "https://localhost:8080/",
          "height": 0
        },
        "id": "jIPxTp-6uiiN",
        "outputId": "f5f883e6-79d7-4031-8eb7-26db37b06bbe"
      },
      "execution_count": 95,
      "outputs": [
        {
          "output_type": "stream",
          "name": "stdout",
          "text": [
            "Digite un valo númerico: 4\n",
            "El valor es:  0.5880456295278406\n"
          ]
        }
      ]
    },
    {
      "cell_type": "markdown",
      "source": [
        "---\n",
        "d."
      ],
      "metadata": {
        "id": "dAWn00j8nkYo"
      }
    },
    {
      "cell_type": "code",
      "source": [
        "import numpy as np\n",
        "import math\n",
        "from math import log\n",
        "#1. Solicitamos el valor de ingreso\n",
        "x=input('Digite un valor númerico: ')\n",
        "\n",
        "try:\n",
        "  x=(float(x))\n",
        "except ValueError:\n",
        "  a='No Es un número entero ni flotante'\n",
        "\n",
        "if(type(x)==float):\n",
        "  if(x-1>0 and (x**2)+1>0):\n",
        "    a=log(np.sqrt(x-1),10)\n",
        "    b=x**2+1\n",
        "    print('El valor es: ',a/b)\n",
        "  else:\n",
        "    print('La respuesta conlleva a un número complejo')\n",
        "else:\n",
        "  print('No ingreso un valor númerico')"
      ],
      "metadata": {
        "colab": {
          "base_uri": "https://localhost:8080/",
          "height": 0
        },
        "id": "tPm6JS3978cw",
        "outputId": "af46f969-3ef8-4f9b-855d-68b4c171781f"
      },
      "execution_count": 99,
      "outputs": [
        {
          "output_type": "stream",
          "name": "stdout",
          "text": [
            "Digite un valo númerico: 3\n",
            "El valor es:  0.01505149978319906\n"
          ]
        }
      ]
    },
    {
      "cell_type": "markdown",
      "source": [
        "---\n",
        "e."
      ],
      "metadata": {
        "id": "pE9oNpDAnkcR"
      }
    },
    {
      "cell_type": "code",
      "source": [
        "import numpy as np\n",
        "import math\n",
        "from math import log\n",
        "#1. Solicitamos el valor de ingreso\n",
        "x=input('Digite un valor númerico: ')\n",
        "\n",
        "try:\n",
        "  x=(float(x))\n",
        "except ValueError:\n",
        "  a='No Es un número entero ni flotante'\n",
        "\n",
        "if(type(x)==float):\n",
        "  if(x>0):\n",
        "    a=x-1\n",
        "    b=log(x,10)\n",
        "    print('El valor es: ',a/b)\n",
        "  else:\n",
        "    print('La respuesta conlleva a un número complejo')\n",
        "else:\n",
        "  print('No ingreso un valor númerico')"
      ],
      "metadata": {
        "colab": {
          "base_uri": "https://localhost:8080/",
          "height": 0
        },
        "id": "IyVMknH787hv",
        "outputId": "c6be6720-eedf-4d81-9fee-dc7c5efb94b5"
      },
      "execution_count": 104,
      "outputs": [
        {
          "output_type": "stream",
          "name": "stdout",
          "text": [
            "Digite un valo númerico: 2\n",
            "El valor es:  3.321928094887363\n"
          ]
        }
      ]
    },
    {
      "cell_type": "markdown",
      "source": [
        "---\n",
        "f."
      ],
      "metadata": {
        "id": "kgrCKPc_nke4"
      }
    },
    {
      "cell_type": "code",
      "source": [
        "import numpy as np\n",
        "import math\n",
        "from math import log\n",
        "#1. Solicitamos el valor de ingreso\n",
        "x=input('Digite un valor númerico: ')\n",
        "\n",
        "try:\n",
        "  x=(float(x))\n",
        "except ValueError:\n",
        "  a='No Es un número entero ni flotante'\n",
        "\n",
        "if(type(x)==float):\n",
        "  if(x!=0 and (x-1)>0):\n",
        "    a=1/x\n",
        "    b=np.sqrt(x-1)\n",
        "    print('El valor es: ',a+b)\n",
        "  else:\n",
        "    print('La respuesta conlleva a un número complejo')\n",
        "else:\n",
        "  print('No ingreso un valor númerico')"
      ],
      "metadata": {
        "colab": {
          "base_uri": "https://localhost:8080/",
          "height": 0
        },
        "id": "uSIMMr879UnM",
        "outputId": "1289eaca-8970-459b-bb12-25ca9423ce2a"
      },
      "execution_count": 105,
      "outputs": [
        {
          "output_type": "stream",
          "name": "stdout",
          "text": [
            "Digite un valo númerico: 5\n",
            "El valor es:  2.2\n"
          ]
        }
      ]
    },
    {
      "cell_type": "markdown",
      "source": [
        "---\n",
        "g."
      ],
      "metadata": {
        "id": "SWY87YiAnkho"
      }
    },
    {
      "cell_type": "code",
      "source": [
        "import numpy as np\n",
        "import math\n",
        "from math import log\n",
        "#1. Solicitamos el valor de ingreso\n",
        "x=input('Digite un valor númerico: ')\n",
        "\n",
        "try:\n",
        "  x=(float(x))\n",
        "except ValueError:\n",
        "  a='No Es un número entero ni flotante'\n",
        "\n",
        "if(type(x)==float):\n",
        "  if(x!=0 and (x-1)>0 and (1/(x+1))>0):\n",
        "    a=1/x\n",
        "    b=np.sqrt(x-1)\n",
        "    c=1/(log((1/(x+1)),10))\n",
        "    print('El valor es: ',a+b-c)\n",
        "  else:\n",
        "    print('La respuesta conlleva a un número complejo')\n",
        "else:\n",
        "  print('No ingreso un valor númerico')"
      ],
      "metadata": {
        "colab": {
          "base_uri": "https://localhost:8080/",
          "height": 0
        },
        "id": "I5JHe4Zv92Xv",
        "outputId": "653ca1fe-d8aa-4296-9013-c1d10d4a00f3"
      },
      "execution_count": 108,
      "outputs": [
        {
          "output_type": "stream",
          "name": "stdout",
          "text": [
            "Digite un valor númerico: 8\n",
            "El valor es:  0.03076923076923077\n"
          ]
        }
      ]
    },
    {
      "cell_type": "markdown",
      "source": [
        "---\n",
        "h."
      ],
      "metadata": {
        "id": "VNSr7V_dnsS5"
      }
    },
    {
      "cell_type": "code",
      "source": [
        "import numpy as np\n",
        "import math\n",
        "from math import log\n",
        "#1. Solicitamos el valor de ingreso\n",
        "x=input('Digite un valor númerico: ')\n",
        "\n",
        "try:\n",
        "  x=(float(x))\n",
        "except ValueError:\n",
        "  a='No Es un número entero ni flotante'\n",
        "\n",
        "if(type(x)==float):\n",
        "  if((x**2+1)>0):\n",
        "    a=2/((x**2)+1)\n",
        "    print('El valor es: ',a)\n",
        "  else:\n",
        "    print('La respuesta conlleva a un número complejo')\n",
        "else:\n",
        "  print('No ingreso un valor númerico')"
      ],
      "metadata": {
        "colab": {
          "base_uri": "https://localhost:8080/",
          "height": 0
        },
        "outputId": "c024c77e-dbb2-4d5f-bdfe-9f2f260f9b30",
        "id": "BJax7SRN_jw5"
      },
      "execution_count": 109,
      "outputs": [
        {
          "output_type": "stream",
          "name": "stdout",
          "text": [
            "Digite un valor númerico: 8\n",
            "El valor es:  0.03076923076923077\n"
          ]
        }
      ]
    },
    {
      "cell_type": "markdown",
      "source": [
        "---\n",
        "i."
      ],
      "metadata": {
        "id": "nw_A7y_PntUm"
      }
    },
    {
      "cell_type": "code",
      "source": [
        "import numpy as np\n",
        "import math\n",
        "from math import log\n",
        "#1. Solicitamos el valor de ingreso\n",
        "print('Función sumatoria de X')\n",
        "n=input('Digite el número superior de elementos que desea sumar: ')\n",
        "\n",
        "try:\n",
        "  a=int(n)\n",
        "  if(a!=0):\n",
        "    n=int(n)\n",
        "except ValueError:\n",
        "  print('Entrada no válida')\n",
        "\n",
        "x=[]\n",
        "c=0 #Almacenamiento de la sumatoria\n",
        "for i in range(n):\n",
        "  Ent=input('ingrese el elemento '+str(i+1))\n",
        "  x.append(Ent)\n",
        "\n",
        "for i in range(len(x)):\n",
        "  try:\n",
        "    x[i]=(float(x[i]))\n",
        "  except ValueError:\n",
        "    print('Hay elementos no númericos en los datos')\n",
        "\n",
        "\n",
        "print(x)\n",
        "for i in range(len(x)):\n",
        "  c=c+x[i]\n",
        "\n",
        "print('El valor es: ',(1/n)*c)\n",
        "y9=(1/n)*c\n",
        "\n"
      ],
      "metadata": {
        "colab": {
          "base_uri": "https://localhost:8080/",
          "height": 0
        },
        "id": "kjuxrrHh_meF",
        "outputId": "5f38bf94-0e1d-4b0c-bdf3-41fd91b0742c"
      },
      "execution_count": 163,
      "outputs": [
        {
          "output_type": "stream",
          "name": "stdout",
          "text": [
            "Función sumatoria de X\n",
            "Digite el número superior de elementos que desea sumar: 2\n",
            "ingrese el elemento 11\n",
            "ingrese el elemento 21\n",
            "[1.0, 1.0]\n",
            "El valor es:  1.0\n"
          ]
        }
      ]
    },
    {
      "cell_type": "markdown",
      "source": [
        "---\n",
        "j."
      ],
      "metadata": {
        "id": "cPvsA38pnuO5"
      }
    },
    {
      "cell_type": "code",
      "source": [
        "import numpy as np\n",
        "import math\n",
        "from math import log\n",
        "#1. Solicitamos el valor de ingreso\n",
        "print('Función sumatoria de X')\n",
        "n=input('Digite el número superior de elementos que desea sumar: ')\n",
        "\n",
        "try:\n",
        "  a=int(n)\n",
        "  if(a>1):\n",
        "    n=int(n)\n",
        "  else:\n",
        "    print('no valido')\n",
        "    n='no'\n",
        "  \n",
        "except ValueError:\n",
        "  print('Entrada no válida')\n",
        "if(type(n)==int and n>1):\n",
        "  \n",
        "  x=[]\n",
        "  c=0 #Almacenamiento de la sumatoria\n",
        "  for i in range(n):\n",
        "    Ent=input('ingrese el elemento '+str(i+1)+'')\n",
        "    x.append(Ent)\n",
        "\n",
        "  print(x)\n",
        "\n",
        "  for i in range(len(x)):\n",
        "    try:\n",
        "      x[i]=(float(x[i]))\n",
        "    except ValueError:\n",
        "      print('Hay elementos no númericos en los datos')\n",
        "\n",
        "  media=0\n",
        "  for i in range(len(x)):\n",
        "    media=media+x[i]\n",
        "  media=media/n\n",
        "\n",
        "  rest=[]\n",
        "\n",
        "  for i in range(len(x)):\n",
        "    rest.append((x[i]-media)**2)\n",
        "  #Valores restados rest\n",
        "  print(rest)\n",
        "\n",
        "\n",
        "  for i in range(len(rest)):\n",
        "    c=c+rest[i]\n",
        "  print(c)\n",
        "  print('El valor es: ',((1/(n-1))*c))\n",
        "  Y10=((1/(n-1))*c)\n",
        "\n",
        "  \n"
      ],
      "metadata": {
        "colab": {
          "base_uri": "https://localhost:8080/",
          "height": 0
        },
        "outputId": "8506c8ba-fb9c-469e-84ac-228c25a49011",
        "id": "pOb6xvQxEqDx"
      },
      "execution_count": 164,
      "outputs": [
        {
          "output_type": "stream",
          "name": "stdout",
          "text": [
            "Función sumatoria de X\n",
            "Digite el número superior de elementos que desea sumar: 5\n",
            "ingrese el elemento 11\n",
            "ingrese el elemento 22\n",
            "ingrese el elemento 33\n",
            "ingrese el elemento 44\n",
            "ingrese el elemento 55\n",
            "['1', '2', '3', '4', '5']\n",
            "[4.0, 1.0, 0.0, 1.0, 4.0]\n",
            "10.0\n",
            "El valor es:  2.5\n"
          ]
        }
      ]
    },
    {
      "cell_type": "markdown",
      "source": [
        "---\n",
        "k."
      ],
      "metadata": {
        "id": "NtU-BqFTLEvO"
      }
    },
    {
      "cell_type": "code",
      "source": [
        "if(y9!=0 and Y10>0):\n",
        "  print('El valor es: ', y9/Y10)\n"
      ],
      "metadata": {
        "colab": {
          "base_uri": "https://localhost:8080/",
          "height": 0
        },
        "id": "bjL4sJHYLO3q",
        "outputId": "387473a8-99f7-400d-d976-21ca6dd83da2"
      },
      "execution_count": 165,
      "outputs": [
        {
          "output_type": "stream",
          "name": "stdout",
          "text": [
            "El valor es:  0.4\n"
          ]
        }
      ]
    },
    {
      "cell_type": "markdown",
      "source": [
        "---\n",
        "# `Notas de Clase:`\n",
        "---"
      ],
      "metadata": {
        "id": "Z9UppIZ6LRto"
      }
    },
    {
      "cell_type": "markdown",
      "source": [
        "---\n",
        "### Creando y asignando valores en Python"
      ],
      "metadata": {
        "id": "x0lJeWVd3At0"
      }
    },
    {
      "cell_type": "markdown",
      "source": [
        ""
      ],
      "metadata": {
        "id": "pieDg4Oe3GiO"
      }
    },
    {
      "cell_type": "code",
      "source": [
        "a= 20\n",
        "a"
      ],
      "metadata": {
        "colab": {
          "base_uri": "https://localhost:8080/"
        },
        "id": "G-e5k_tz3OVF",
        "outputId": "ccdc8d90-8ffb-443b-cf88-7629650099b7"
      },
      "execution_count": null,
      "outputs": [
        {
          "output_type": "execute_result",
          "data": {
            "text/plain": [
              "20"
            ]
          },
          "metadata": {},
          "execution_count": 1
        }
      ]
    },
    {
      "cell_type": "code",
      "source": [
        "# No usar puntos\n",
        "# No iniciar por numeros\n",
        "# No usar tildes ni caractetres especiales como 'ñ'\n",
        "\n",
        "rto_var1=56.667\n",
        "rto_var1"
      ],
      "metadata": {
        "colab": {
          "base_uri": "https://localhost:8080/"
        },
        "id": "5712oKXi3UA8",
        "outputId": "e28fa734-d2df-4d15-fa32-f2cf3cc1e996"
      },
      "execution_count": null,
      "outputs": [
        {
          "output_type": "execute_result",
          "data": {
            "text/plain": [
              "56.667"
            ]
          },
          "metadata": {},
          "execution_count": 2
        }
      ]
    },
    {
      "cell_type": "markdown",
      "source": [
        "---\n",
        "#### Tipos de datos"
      ],
      "metadata": {
        "id": "KzVpnX8y3eqr"
      }
    },
    {
      "cell_type": "code",
      "source": [
        "# Entero\n",
        "v1=50\n",
        "print(type(v1))\n",
        "# Punto flotante (decimales)\n",
        "v2=3.14\n",
        "print(type(v1))\n",
        "print(type(v2))\n",
        "# String (Cadena de caracteres)\n",
        "v3= 'Hello World'\n",
        "print(type(v3))\n",
        "# Logicas Booleanas\n",
        "v4=False # Primera letra en mayuscula\n",
        "print(type(v4))\n",
        "v5= None\n",
        "print(type(v5))\n",
        "\n",
        "\n",
        "\n",
        "\n",
        "\n",
        "\n",
        "\n"
      ],
      "metadata": {
        "colab": {
          "base_uri": "https://localhost:8080/"
        },
        "id": "1svS4gmt3d4O",
        "outputId": "9578b850-8a82-47c7-b52d-1f9340aeb1f6"
      },
      "execution_count": null,
      "outputs": [
        {
          "output_type": "stream",
          "name": "stdout",
          "text": [
            "<class 'int'>\n",
            "<class 'int'>\n",
            "<class 'float'>\n",
            "<class 'str'>\n",
            "<class 'bool'>\n",
            "<class 'NoneType'>\n"
          ]
        }
      ]
    },
    {
      "cell_type": "markdown",
      "source": [
        "---\n",
        "#### Operadores"
      ],
      "metadata": {
        "id": "jqaksOzV3emL"
      }
    },
    {
      "cell_type": "code",
      "source": [
        "# Aritmeticos\n",
        "a=3\n",
        "b=5\n",
        "# Suma\n",
        "print(a+b)\n",
        "# Resta\n",
        "print(a-b)\n",
        "#División\n",
        "print(a/b)\n",
        "#Multiplicación\n",
        "print(a*b)\n",
        "# División entera\n",
        "print(a//b)\n",
        "# Potencia\n",
        "print(a**b)\n",
        "# Residuo o módulo\n",
        "print(a%b)\n",
        "print(b%b)\n",
        "\n",
        "\n",
        "\n",
        "\n",
        "\n",
        "\n"
      ],
      "metadata": {
        "colab": {
          "base_uri": "https://localhost:8080/"
        },
        "id": "ubomXPPH4Oml",
        "outputId": "f806880a-6ef2-4b00-92d3-59b01a2adad6"
      },
      "execution_count": null,
      "outputs": [
        {
          "output_type": "stream",
          "name": "stdout",
          "text": [
            "8\n",
            "-2\n",
            "0.6\n",
            "15\n",
            "0\n",
            "243\n",
            "3\n",
            "0\n"
          ]
        }
      ]
    },
    {
      "cell_type": "markdown",
      "source": [
        "---\n",
        "#### Operadores Booleanos"
      ],
      "metadata": {
        "id": "0Lx5QXGU5rQm"
      }
    },
    {
      "cell_type": "code",
      "source": [
        "# Negación\n",
        "a= True\n",
        "b= True\n",
        "c= False\n",
        "#Negación\n",
        "print(not(a))\n",
        "# Es igual\n",
        "print(a==c)\n",
        "print(a==b)\n",
        "# Operador And\n",
        "print(5>4 and 0<1)\n",
        "print(5>4 and 0>1)\n",
        "# Operador Or\n",
        "print(5>4 or 0>1)\n",
        "print(5<4 and 0>1)\n"
      ],
      "metadata": {
        "colab": {
          "base_uri": "https://localhost:8080/"
        },
        "id": "CLzKxcC85hE9",
        "outputId": "3f7d9c37-282c-47ec-e0f7-05a6e23bb17e"
      },
      "execution_count": null,
      "outputs": [
        {
          "output_type": "stream",
          "name": "stdout",
          "text": [
            "False\n",
            "False\n",
            "True\n",
            "True\n",
            "False\n",
            "True\n",
            "False\n"
          ]
        }
      ]
    },
    {
      "cell_type": "code",
      "source": [
        "print('hola','python', end='\\n') # Imprime un salto de linea al final\n",
        "print('hola','python', end='-')\n",
        "print('hola','python', end='a')\n",
        "print('hola','python')# Hace un salto de línea automatico\n",
        "print('hola','python')\n"
      ],
      "metadata": {
        "colab": {
          "base_uri": "https://localhost:8080/"
        },
        "id": "mOdlRCJU6qPX",
        "outputId": "f9e9b715-5d8d-449f-b320-2401b3738646"
      },
      "execution_count": null,
      "outputs": [
        {
          "output_type": "stream",
          "name": "stdout",
          "text": [
            "hola python\n",
            "hola python-hola pythonahola python\n",
            "hola python\n"
          ]
        }
      ]
    },
    {
      "cell_type": "markdown",
      "source": [
        "---\n",
        "#### Función input"
      ],
      "metadata": {
        "id": "A2xV6O_98Cw7"
      }
    },
    {
      "cell_type": "code",
      "source": [
        "# Ingresar un dato desde consola\n",
        "numero = input('Ingrese el numero:')\n",
        "print(numero)"
      ],
      "metadata": {
        "colab": {
          "base_uri": "https://localhost:8080/"
        },
        "id": "zk0fNYMv6zNZ",
        "outputId": "b07bb999-ec7c-4510-c5ff-9c0dedbd31e7"
      },
      "execution_count": null,
      "outputs": [
        {
          "output_type": "stream",
          "name": "stdout",
          "text": [
            "Ingrese el numero:15\n",
            "15\n"
          ]
        }
      ]
    },
    {
      "cell_type": "markdown",
      "source": [
        "---\n",
        "#### Formato de texto al imprimir"
      ],
      "metadata": {
        "id": "MIwkgQ5D8KrE"
      }
    },
    {
      "cell_type": "code",
      "source": [
        "nombre= input('cúal es su nombre')\n",
        "print(f'Hola {nombre}')\n",
        "print(f'1')\n"
      ],
      "metadata": {
        "colab": {
          "base_uri": "https://localhost:8080/"
        },
        "id": "-8j0iBDm65Rz",
        "outputId": "d1b66781-264b-4b7a-d2b5-3e4fb8b3ccb3"
      },
      "execution_count": null,
      "outputs": [
        {
          "output_type": "stream",
          "name": "stdout",
          "text": [
            "cúal es su nombrea\n",
            "Hola a\n",
            "1\n"
          ]
        }
      ]
    },
    {
      "cell_type": "markdown",
      "source": [
        "---\n",
        "#### Condicionales\n"
      ],
      "metadata": {
        "id": "8qJXzc118mXn"
      }
    },
    {
      "cell_type": "code",
      "source": [
        "a=input('a:')\n",
        "b=input('b:')\n",
        "if(a>b):\n",
        "  print(a+b)\n",
        "elif (b>a):\n",
        "  print(a)\n",
        "else:\n",
        "  print('datos o cadenas identicas')\n"
      ],
      "metadata": {
        "colab": {
          "base_uri": "https://localhost:8080/"
        },
        "id": "K1PCa9yL8vee",
        "outputId": "3f111a7b-0c58-49a8-9c83-be204780d3e6"
      },
      "execution_count": null,
      "outputs": [
        {
          "output_type": "stream",
          "name": "stdout",
          "text": [
            "a:af\n",
            "b:af\n",
            "datos o cadenas identicas\n"
          ]
        }
      ]
    },
    {
      "cell_type": "markdown",
      "source": [
        "---\n",
        "#### Funciones condicionales"
      ],
      "metadata": {
        "id": "yz2SsJnO8lVn"
      }
    },
    {
      "cell_type": "code",
      "source": [
        "nota1=float(input('nota_1:'))\n",
        "nota2=float(input('nota_2:'))\n",
        "nota3=float(input('nota_3:'))\n",
        "nota4=float(input('nota_4:'))\n",
        "\n",
        "def funcion_notas(a,b,c,d):\n",
        "  n=(a*3+b*3+c*3+d*3)/12\n",
        "  if n<3:\n",
        "    text='Hay que mejorar'\n",
        "  else:\n",
        "    text='Vas bien, el resto es plusvalía'\n",
        "  return print('Su nota es:',n,'\\n'+text) \n",
        "\n",
        "funcion_notas(nota1,nota2,nota3,nota4)"
      ],
      "metadata": {
        "colab": {
          "base_uri": "https://localhost:8080/"
        },
        "id": "RlK7jJAH9iCa",
        "outputId": "d61e3221-177d-4247-e271-5e103ea031a0"
      },
      "execution_count": null,
      "outputs": [
        {
          "output_type": "stream",
          "name": "stdout",
          "text": [
            "nota_1:1.1\n",
            "nota_2:1.1\n",
            "nota_3:1.1\n",
            "nota_4:1.1\n",
            "Su nota es: 1.1 \n",
            "Hay que mejorar\n"
          ]
        }
      ]
    },
    {
      "cell_type": "markdown",
      "source": [
        "---\n",
        "#### Función *format*"
      ],
      "metadata": {
        "id": "QsVK6KHE8eFO"
      }
    },
    {
      "cell_type": "code",
      "source": [
        "print(\"{}, Computación E.\"\n",
        "      .format(\"Encabezado\"))\n",
        " \n",
        "# using format option for a\n",
        "# value stored in a variable\n",
        "str = \"Este cuaderno está escrito en {}\"\n",
        "print(str.format(\"Python\"))\n",
        "\n",
        "print(\"Hola este año es {:.0f} !\".format(2022.55))\n",
        "print(\"Hola este año es {:.0f} !\".format(2022.5))\n"
      ],
      "metadata": {
        "colab": {
          "base_uri": "https://localhost:8080/"
        },
        "id": "2sPCEnH2ASNb",
        "outputId": "d4dfdeaf-9d2f-435c-c601-a10d76da1c65"
      },
      "execution_count": null,
      "outputs": [
        {
          "output_type": "stream",
          "name": "stdout",
          "text": [
            "Encabezado, Computación E.\n",
            "Este cuaderno está escrito en Python\n",
            "Hola este año es 2023 !\n",
            "Hola este año es 2022 !\n"
          ]
        }
      ]
    },
    {
      "cell_type": "markdown",
      "source": [
        "---\n",
        "#### lados de un triángulo"
      ],
      "metadata": {
        "id": "uDDxXGmFGyF0"
      }
    },
    {
      "cell_type": "code",
      "source": [
        "a = float ( input ('Ingrese el primer lado : '))\n",
        "b = float ( input ('Ingrese el segundo lado : '))\n",
        "c = float ( input ('Ingrese el tercer lado : '))\n",
        "if a == b and b == c:\n",
        "  print ('Equilatero ')\n",
        "elif a == b or b == c or a == c:\n",
        "  print ('Isosceles ')\n",
        "else :\n",
        "  print ('Escaleno ')"
      ],
      "metadata": {
        "colab": {
          "base_uri": "https://localhost:8080/"
        },
        "id": "RUShM44rEaGC",
        "outputId": "d625972d-c36f-4333-8ee2-e36fec475f21"
      },
      "execution_count": null,
      "outputs": [
        {
          "output_type": "stream",
          "name": "stdout",
          "text": [
            "Ingrese el primer lado : 1\n",
            "Ingrese el segundo lado : 2\n",
            "Ingrese el tercer lado : 3\n",
            "Escaleno \n"
          ]
        }
      ]
    },
    {
      "cell_type": "markdown",
      "source": [
        "---\n",
        "#### Ecuación cuadrática"
      ],
      "metadata": {
        "id": "mQyw21U8G2gF"
      }
    },
    {
      "cell_type": "code",
      "source": [
        "a = float ( input ('Ingrese a: '))\n",
        "b = float ( input ('Ingrese b: '))\n",
        "c = float ( input ('Ingrese c: '))\n",
        "if a != 0:\n",
        "  if b ** 2 - 4 * a * c >= 0:\n",
        "    print ('Tiene dos soluciones reales ')\n",
        "  else:\n",
        "    print ('no tiene soluciones reales ')"
      ],
      "metadata": {
        "colab": {
          "base_uri": "https://localhost:8080/"
        },
        "id": "d_a2dhYuEgiq",
        "outputId": "db0fa9c2-32f5-4c08-89ce-fda088918b30"
      },
      "execution_count": null,
      "outputs": [
        {
          "output_type": "stream",
          "name": "stdout",
          "text": [
            "Ingrese a: 1\n",
            "Ingrese b: 2\n",
            "Ingrese c: 3\n",
            "no tiene soluciones reales \n"
          ]
        }
      ]
    },
    {
      "cell_type": "markdown",
      "source": [
        "---\n",
        "#### Limitaciones de la función logaritmo\n",
        "$$Z=\\frac{log x \\sqrt[3]{x-1}}{x+1}$$\n",
        "Comentarios\n",
        "1. $$x>0$$\n",
        "2. $$x\\ne1$$\n",
        "\n"
      ],
      "metadata": {
        "id": "XA_DjLlTG_t9"
      }
    },
    {
      "cell_type": "code",
      "source": [
        "from math import log\n",
        "from numpy import abs\n",
        "from math import pow\n",
        "x=float(input('Introduce X:'))\n",
        "if x<0 or x==1:\n",
        "  print('Fuera del dominio de x')\n",
        "else:\n",
        "  if(x-1)<0:\n",
        "    z=log(x)*-pow(abs(x-1),(1/3))/(x-1)\n",
        "  else:\n",
        "    z=log(x)*pow(abs(x-1),(1/3))/(x-1)\n",
        "  print('Z=',z)\n",
        "  print('Z es:{:.3F}'.format(z))\n"
      ],
      "metadata": {
        "colab": {
          "base_uri": "https://localhost:8080/"
        },
        "id": "S0W0CzXAH0JR",
        "outputId": "063b8645-2c8e-41d6-8466-2dc936279969"
      },
      "execution_count": null,
      "outputs": [
        {
          "output_type": "stream",
          "name": "stdout",
          "text": [
            "Introduce X:1\n",
            "Fuera del dominio de x\n"
          ]
        }
      ]
    }
  ]
}